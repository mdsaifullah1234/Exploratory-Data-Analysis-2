{
 "cells": [
  {
   "cell_type": "markdown",
   "metadata": {},
   "source": [
    "Q1. Load the flight price dataset and examine its dimensions. How many rows and columns does the\n",
    "dataset have?"
   ]
  },
  {
   "cell_type": "markdown",
   "metadata": {},
   "source": [
    "ANS =  The flight price dataset has X rows and Y columns."
   ]
  },
  {
   "cell_type": "markdown",
   "metadata": {},
   "source": [
    "Q2. What is the distribution of flight prices in the dataset? Create a histogram to visualize the\n",
    "distribution."
   ]
  },
  {
   "cell_type": "markdown",
   "metadata": {},
   "source": [
    "ANS =  The distribution of flight prices in the dataset is skewed right.\n"
   ]
  },
  {
   "cell_type": "markdown",
   "metadata": {},
   "source": [
    "Q3. What is the range of prices in the dataset? What is the minimum and maximum price?"
   ]
  },
  {
   "cell_type": "markdown",
   "metadata": {},
   "source": [
    "ANS = The range of prices in the dataset is from $X to $Y, with a minimum price of $X and a maximum price of $Y."
   ]
  },
  {
   "cell_type": "markdown",
   "metadata": {},
   "source": [
    "Q4. How does the price of flights vary by airline? Create a boxplot to compare the prices of different\n",
    "airlines."
   ]
  },
  {
   "cell_type": "markdown",
   "metadata": {},
   "source": [
    "ANS = The price of flights varies by airline, with some airlines having higher median prices than others."
   ]
  },
  {
   "cell_type": "markdown",
   "metadata": {},
   "source": [
    "Q5. Are there any outliers in the dataset? Identify any potential outliers using a boxplot and describe how\n",
    "they may impact your analysis."
   ]
  },
  {
   "cell_type": "markdown",
   "metadata": {},
   "source": [
    "ANS = Yes, there are potential outliers in the dataset, which may impact analysis by skewing summary statistics and affecting model performance."
   ]
  },
  {
   "cell_type": "markdown",
   "metadata": {},
   "source": [
    "Q6. You are working for a travel agency, and your boss has asked you to analyze the Flight Price dataset\n",
    "to identify the peak travel season. What features would you analyze to identify the peak season, and how\n",
    "would you present your findings to your boss?"
   ]
  },
  {
   "cell_type": "markdown",
   "metadata": {},
   "source": [
    "ANS = To identify the peak travel season, features such as date, month, or season could be analyzed. Findings could be presented using line graphs or bar charts showing average prices over time."
   ]
  },
  {
   "cell_type": "markdown",
   "metadata": {},
   "source": [
    "Q7. You are a data analyst for a flight booking website, and you have been asked to analyze the Flight\n",
    "Price dataset to identify any trends in flight prices. What features would you analyze to identify these\n",
    "trends, and what visualizations would you use to present your findings to your team?"
   ]
  },
  {
   "cell_type": "markdown",
   "metadata": {},
   "source": [
    "ANS = Features such as date, airline, or destination could be analyzed to identify trends in flight prices. Visualizations like line plots or heatmaps could be used to present findings to the team."
   ]
  },
  {
   "cell_type": "markdown",
   "metadata": {},
   "source": [
    "Q8. You are a data scientist working for an airline company, and you have been asked to analyze the\n",
    "Flight Price dataset to identify the factors that affect flight prices. What features would you analyze to\n",
    "identify these factors, and how would you present your findings to the management team?"
   ]
  },
  {
   "cell_type": "markdown",
   "metadata": {},
   "source": [
    "ANS  = Features such as airline, departure time, or route could be analyzed to identify factors affecting flight prices. Findings could be presented using regression analysis or feature importance plots."
   ]
  },
  {
   "cell_type": "markdown",
   "metadata": {},
   "source": [
    "Q9. Load the Google Playstore dataset and examine its dimensions. How many rows and columns does\n",
    "the dataset have?"
   ]
  },
  {
   "cell_type": "markdown",
   "metadata": {},
   "source": [
    "ANS = The Google Playstore dataset has X rows and Y columns."
   ]
  },
  {
   "cell_type": "markdown",
   "metadata": {},
   "source": [
    "Q10. How does the rating of apps vary by category? Create a boxplot to compare the ratings of different\n",
    "app categories."
   ]
  },
  {
   "cell_type": "markdown",
   "metadata": {},
   "source": [
    "ANS = The rating of apps varies by category, with some categories having higher median ratings than others"
   ]
  },
  {
   "cell_type": "markdown",
   "metadata": {},
   "source": [
    "Q11. Are there any missing values in the dataset? Identify any missing values and describe how they may\n",
    "impact your analysis."
   ]
  },
  {
   "cell_type": "markdown",
   "metadata": {},
   "source": [
    "ANS =  Yes, there are missing values in the dataset, which may impact analysis by skewing summary statistics and affecting model performance."
   ]
  },
  {
   "cell_type": "markdown",
   "metadata": {},
   "source": [
    "Q12. What is the relationship between the size of an app and its rating? Create a scatter plot to visualize\n",
    "the relationship."
   ]
  },
  {
   "cell_type": "markdown",
   "metadata": {},
   "source": [
    "There may be a weak positive correlation between the size of an app and its rating, with larger apps generally receiving higher ratings."
   ]
  },
  {
   "cell_type": "markdown",
   "metadata": {},
   "source": [
    "Q13. How does the type of app affect its price? Create a bar chart to compare average prices by app type."
   ]
  },
  {
   "cell_type": "markdown",
   "metadata": {},
   "source": [
    "ANS = The type of app affects its price, with certain types of apps generally being priced higher or lower than others."
   ]
  },
  {
   "cell_type": "markdown",
   "metadata": {},
   "source": [
    "Q14. What are the top 10 most popular apps in the dataset? Create a frequency table to identify the apps\n",
    "with the highest number of installs."
   ]
  },
  {
   "cell_type": "markdown",
   "metadata": {},
   "source": [
    "ANS = The top 10 most popular apps in the dataset are identified based on the highest number of installs."
   ]
  },
  {
   "cell_type": "markdown",
   "metadata": {},
   "source": [
    "Q15. A company wants to launch a new app on the Google Playstore and has asked you to analyze the\n",
    "Google Playstore dataset to identify the most popular app categories. How would you approach this\n",
    "task, and what features would you analyze to make recommendations to the company?"
   ]
  },
  {
   "cell_type": "markdown",
   "metadata": {},
   "source": [
    "ANS = . To identify the most popular app categories, features such as category, installs, and ratings could be analyzed. Recommendations could be made based on categories with high average ratings and installs."
   ]
  },
  {
   "cell_type": "markdown",
   "metadata": {},
   "source": [
    "Q16. A mobile app development company wants to analyze the Google Playstore dataset to identify the\n",
    "most successful app developers. What features would you analyze to make recommendations to the\n",
    "company, and what data visualizations would you use to present your findings?"
   ]
  },
  {
   "cell_type": "markdown",
   "metadata": {},
   "source": [
    "ANS =   To identify the most successful app developers, features such as developer name, number of apps published, and average app ratings could be analyzed. Recommendations could be presented using bar charts or tables."
   ]
  },
  {
   "cell_type": "markdown",
   "metadata": {},
   "source": [
    "Q17. A marketing research firm wants to analyze the Google Playstore dataset to identify the best time to\n",
    "launch a new app. What features would you analyze to make recommendations to the company, and\n",
    "what data visualizations would you use to present your findings?"
   ]
  },
  {
   "cell_type": "markdown",
   "metadata": {},
   "source": [
    "ANS = To identify the best time to launch a new app, features such as release date, seasonality, and trends in app downloads could be analyzed. Recommendations could be presented using time series plots or histograms.\n"
   ]
  }
 ],
 "metadata": {
  "language_info": {
   "name": "python"
  }
 },
 "nbformat": 4,
 "nbformat_minor": 2
}
